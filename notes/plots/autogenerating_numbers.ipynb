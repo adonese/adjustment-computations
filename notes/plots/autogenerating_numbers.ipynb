{
 "cells": [
  {
   "cell_type": "code",
   "execution_count": 1,
   "metadata": {
    "collapsed": true
   },
   "outputs": [],
   "source": [
    "import numpy as np"
   ]
  },
  {
   "cell_type": "code",
   "execution_count": null,
   "metadata": {
    "collapsed": true
   },
   "outputs": [],
   "source": [
    "\n",
    "    "
   ]
  },
  {
   "cell_type": "code",
   "execution_count": 2,
   "metadata": {
    "collapsed": true
   },
   "outputs": [],
   "source": [
    "def generate_lat_long_height(seed=1):\n",
    "    \"\"\"This function automatically generates latitude, longitude, and height\"\"\"\n",
    "    max_lat, min_lat = 90, -90\n",
    "    max_long, min_long = 180, -180\n",
    "    max_height, min_height = 400, 100\n",
    "    return (np.random.randint(min_lat, max_lat), np.random.randint(min_long, max_long),\n",
    "           np.random.randint(min_height, max_height))"
   ]
  },
  {
   "cell_type": "code",
   "execution_count": 13,
   "metadata": {
    "collapsed": true
   },
   "outputs": [],
   "source": [
    "with open('data.txt', 'w') as f:\n",
    "    for i in range(10):\n",
    "        lat, long, height = generate_lat_long_height()\n",
    "        f.writelines(\"%.3f %.3f %.3f\\n\" %(lat, long, height))"
   ]
  },
  {
   "cell_type": "code",
   "execution_count": 14,
   "metadata": {
    "collapsed": false
   },
   "outputs": [
    {
     "name": "stdout",
     "output_type": "stream",
     "text": [
      "-52.000 -57.000 113.000\r\n",
      "-29.000 179.000 376.000\r\n",
      "-43.000 21.000 239.000\r\n",
      "25.000 101.000 191.000\r\n",
      "82.000 5.000 237.000\r\n",
      "-72.000 150.000 218.000\r\n",
      "25.000 133.000 113.000\r\n",
      "79.000 -137.000 377.000\r\n",
      "-24.000 153.000 274.000\r\n",
      "25.000 -51.000 367.000\r\n"
     ]
    }
   ],
   "source": [
    "cat data.txt"
   ]
  },
  {
   "cell_type": "code",
   "execution_count": 15,
   "metadata": {
    "collapsed": true
   },
   "outputs": [],
   "source": [
    "cp data.txt /home/adonese/teaching/phyiscal-geodesy/Week-2/Assignment/"
   ]
  },
  {
   "cell_type": "code",
   "execution_count": null,
   "metadata": {
    "collapsed": true
   },
   "outputs": [],
   "source": []
  }
 ],
 "metadata": {
  "anaconda-cloud": {},
  "kernelspec": {
   "display_name": "Python [Root]",
   "language": "python",
   "name": "Python [Root]"
  },
  "language_info": {
   "codemirror_mode": {
    "name": "ipython",
    "version": 3
   },
   "file_extension": ".py",
   "mimetype": "text/x-python",
   "name": "python",
   "nbconvert_exporter": "python",
   "pygments_lexer": "ipython3",
   "version": "3.5.2"
  }
 },
 "nbformat": 4,
 "nbformat_minor": 2
}
