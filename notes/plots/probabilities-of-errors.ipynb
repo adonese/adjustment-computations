{
 "cells": [
  {
   "cell_type": "code",
   "execution_count": 1,
   "metadata": {
    "collapsed": true
   },
   "outputs": [],
   "source": [
    "import numpy as np\n",
    "import matplotlib.pyplot as plt\n",
    "%matplotlib inline"
   ]
  },
  {
   "cell_type": "code",
   "execution_count": 41,
   "metadata": {
    "collapsed": true
   },
   "outputs": [],
   "source": [
    "def generate_distribution(size=4):\n",
    "    \"\"\"This function automatically generate distribution\"\"\"\n",
    "    return np.arange(size, -size-1, -2)"
   ]
  },
  {
   "cell_type": "code",
   "execution_count": 45,
   "metadata": {
    "collapsed": false
   },
   "outputs": [
    {
     "data": {
      "text/plain": [
       "array([ 2,  0, -2])"
      ]
     },
     "execution_count": 45,
     "metadata": {},
     "output_type": "execute_result"
    }
   ],
   "source": [
    "generate_distribution(2)"
   ]
  },
  {
   "cell_type": "code",
   "execution_count": null,
   "metadata": {
    "collapsed": true
   },
   "outputs": [],
   "source": [
    "def generate_frequency(dist):\n",
    "    max_number = np.max(nb.abs(dist), axis=0)\n",
    "    "
   ]
  },
  {
   "cell_type": "code",
   "execution_count": 25,
   "metadata": {
    "collapsed": false
   },
   "outputs": [
    {
     "data": {
      "text/plain": [
       "1"
      ]
     },
     "execution_count": 25,
     "metadata": {},
     "output_type": "execute_result"
    }
   ],
   "source": [
    "5 % 2"
   ]
  },
  {
   "cell_type": "code",
   "execution_count": 43,
   "metadata": {
    "collapsed": false
   },
   "outputs": [
    {
     "data": {
      "image/png": "[encoded data removed]",
      "text/plain": [
       "<matplotlib.figure.Figure at 0x7fbf7cf8e748>"
      ]
     },
     "metadata": {},
     "output_type": "display_data"
    }
   ],
   "source": [
    "n = 5\n",
    "for i in range(5):\n",
    "    plt.hist(generate_distribution(n))\n",
    "    n += 10"
   ]
  },
  {
   "cell_type": "code",
   "execution_count": 44,
   "metadata": {
    "collapsed": false
   },
   "outputs": [
    {
     "data": {
      "text/plain": [
       "(array([ 1.,  0.,  1.,  0.,  1.,  0.,  1.,  0.,  1.,  1.]),\n",
       " array([-5., -4., -3., -2., -1.,  0.,  1.,  2.,  3.,  4.,  5.]),\n",
       " <a list of 10 Patch objects>)"
      ]
     },
     "execution_count": 44,
     "metadata": {},
     "output_type": "execute_result"
    },
    {
     "data": {
      "image/png": "[encoded data removed]",
      "text/plain": [
       "<matplotlib.figure.Figure at 0x7fbf7cf8e898>"
      ]
     },
     "metadata": {},
     "output_type": "display_data"
    }
   ],
   "source": [
    "plt.hist(generate_distribution(5))"
   ]
  },
  {
   "cell_type": "code",
   "execution_count": 47,
   "metadata": {
    "collapsed": false
   },
   "outputs": [
    {
     "data": {
      "text/plain": [
       "1200.0"
      ]
     },
     "execution_count": 47,
     "metadata": {},
     "output_type": "execute_result"
    }
   ],
   "source": [
    "2000 * 12 / 20"
   ]
  },
  {
   "cell_type": "code",
   "execution_count": 48,
   "metadata": {
    "collapsed": false
   },
   "outputs": [
    {
     "data": {
      "text/plain": [
       "20000.0"
      ]
     },
     "execution_count": 48,
     "metadata": {},
     "output_type": "execute_result"
    }
   ],
   "source": [
    "400 * 1000 / 20"
   ]
  },
  {
   "cell_type": "code",
   "execution_count": 49,
   "metadata": {
    "collapsed": false
   },
   "outputs": [
    {
     "data": {
      "text/plain": [
       "4000.0"
      ]
     },
     "execution_count": 49,
     "metadata": {},
     "output_type": "execute_result"
    }
   ],
   "source": [
    "80000/20"
   ]
  },
  {
   "cell_type": "code",
   "execution_count": 50,
   "metadata": {
    "collapsed": false
   },
   "outputs": [
    {
     "data": {
      "image/png": "[encoded data removed]",
      "text/plain": [
       "<matplotlib.figure.Figure at 0x7fbf7ad8ac50>"
      ]
     },
     "metadata": {},
     "output_type": "display_data"
    }
   ],
   "source": [
    "random_state = np.random.RandomState(19680801)\n",
    "X = random_state.randn(10000)\n",
    "\n",
    "fig, ax = plt.subplots()\n",
    "ax.hist(X, bins=25, normed=True)\n",
    "x = np.linspace(-5, 5, 1000)\n",
    "ax.plot(x, 1 / np.sqrt(2*np.pi) * np.exp(-(x**2)/2), linewidth=4)\n",
    "ax.set_xticks([])\n",
    "ax.set_yticks([])\n",
    "fig.savefig(\"histogram_frontpage.png\", dpi=25) "
   ]
  },
  {
   "cell_type": "code",
   "execution_count": 51,
   "metadata": {
    "collapsed": false
   },
   "outputs": [
    {
     "data": {
      "text/plain": [
       "array([ -1.52574357e+00,   1.09345431e-01,   5.73123833e-01,\n",
       "         8.44436317e-01,   5.45623461e-01,   1.78532428e-01,\n",
       "         4.65404604e-01,  -1.78623431e+00,  -1.13130412e+00,\n",
       "         1.28928167e+00,   5.31750710e-01,  -6.54925167e-01,\n",
       "         6.79446202e-01,  -8.73843423e-01,  -1.96362741e-01,\n",
       "         4.20552479e-01,  -1.86126404e-01,  -6.50009127e-01,\n",
       "        -1.23801357e+00,  -1.50950127e+00,  -1.45023699e-02,\n",
       "         1.06116915e+00,   4.25113180e-01,   3.29694887e-01,\n",
       "         1.64219586e-01,  -7.53387139e-01,   2.42823053e+00,\n",
       "        -1.07533290e+00,   1.26607702e+00,  -4.32727553e-01,\n",
       "        -7.50885712e-01,  -5.30496485e-01,   6.43252564e-01,\n",
       "        -8.86600936e-02,   2.76291296e-01,  -6.04287744e-01,\n",
       "         7.50780796e-01,  -2.49076604e-01,  -1.72653508e-01,\n",
       "        -1.04131107e+00,  -5.61661450e-01,   1.08682226e-01,\n",
       "         8.91014029e-01,   4.64816712e-01,  -2.03360445e-01,\n",
       "         4.48965549e-01,   1.01114660e-01,  -7.83362197e-01,\n",
       "         1.47395274e+00,   9.05765639e-01,  -8.77482101e-01,\n",
       "        -3.90265317e-01,   1.39471013e+00,  -1.92688634e+00,\n",
       "        -5.66088229e-01,  -1.14927122e+00,  -6.05868278e-01,\n",
       "         3.92596542e-01,  -1.16848488e+00,   8.54098607e-01,\n",
       "        -1.51070370e+00,  -6.78989846e-02,  -4.19616872e-01,\n",
       "         9.67302300e-02,   7.86861724e-01,   5.38767633e-01,\n",
       "         2.13369131e+00,   7.70416439e-01,  -1.74153305e-01,\n",
       "        -9.24289801e-01,  -1.07957271e+00,   1.11637943e+00,\n",
       "        -1.69122988e-01,   6.18837115e-01,   1.24479918e+00,\n",
       "        -1.75106862e+00,  -1.67119252e+00,  -1.43062919e-01,\n",
       "         1.59206475e-01,  -5.13209021e-01,  -1.19688014e-02,\n",
       "         1.51817505e-01,   6.73259073e-01,   5.80392872e-01,\n",
       "        -4.29962160e-01,  -6.82544631e-01,   1.96083726e-01,\n",
       "         9.76819998e-01,   1.73232931e+00,   1.00475528e+00,\n",
       "         5.27999381e-04,   1.65207104e+00,  -5.60074933e-01,\n",
       "         5.05008725e-01,  -8.05431818e-01,  -8.18288254e-01,\n",
       "        -2.01233664e-01,  -8.56106120e-02,   1.36350863e+00,\n",
       "        -5.28175656e-01])"
      ]
     },
     "execution_count": 51,
     "metadata": {},
     "output_type": "execute_result"
    }
   ],
   "source": [
    "np.random.randn(100)"
   ]
  },
  {
   "cell_type": "code",
   "execution_count": null,
   "metadata": {
    "collapsed": true
   },
   "outputs": [],
   "source": []
  }
 ],
 "metadata": {
  "anaconda-cloud": {},
  "kernelspec": {
   "display_name": "Python [Root]",
   "language": "python",
   "name": "Python [Root]"
  },
  "language_info": {
   "codemirror_mode": {
    "name": "ipython",
    "version": 3
   },
   "file_extension": ".py",
   "mimetype": "text/x-python",
   "name": "python",
   "nbconvert_exporter": "python",
   "pygments_lexer": "ipython3",
   "version": "3.5.2"
  }
 },
 "nbformat": 4,
 "nbformat_minor": 2
}
